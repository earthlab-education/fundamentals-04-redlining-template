{
  "cells": [
    {
      "cell_type": "markdown",
      "metadata": {},
      "source": [
        "# Plotting multispectral data\n",
        "\n",
        "Multispectral data can be plotted as:\n",
        "\n",
        "1.  Individual bands\n",
        "2.  Spectral indices\n",
        "3.  True color 3-band images\n",
        "4.  False color 3-band images\n",
        "\n",
        "Spectral indices and false color images can both be used to enhance\n",
        "images to clearly show things that might be hidden from a true color\n",
        "image, such as vegetation health."
      ],
      "id": "f208f573-2a51-4862-9aee-028a6ac6e6ec"
    },
    {
      "cell_type": "code",
      "execution_count": 2,
      "metadata": {},
      "outputs": [],
      "source": [
        "%store -r band_dict ndvi_da denver_redlining_gdf"
      ],
      "id": "98ed1522"
    },
    {
      "cell_type": "markdown",
      "metadata": {},
      "source": [
        "<link rel=\"stylesheet\" type=\"text/css\" href=\"./assets/styles.css\"><div class=\"callout callout-style-default callout-titled callout-task\"><div class=\"callout-header\"><div class=\"callout-icon-container\"><i class=\"callout-icon\"></i></div><div class=\"callout-title-container flex-fill\">Try It: Import libraries</div></div><div class=\"callout-body-container callout-body\"><p>Add missing libraries to the imports</p></div></div>"
      ],
      "id": "bfcf61dd-cd2b-4afb-b828-95d89859e63d"
    },
    {
      "cell_type": "code",
      "execution_count": 3,
      "metadata": {
        "highlight": true
      },
      "outputs": [],
      "source": [
        "import cartopy.crs as ccrs # CRSs\n",
        "# Interactive tabular and vector data\n",
        "import hvplot.xarray # Interactive raster\n",
        "# Overlay plots\n",
        "import numpy as np # Adjust images\n",
        "import xarray as xr # Adjust images"
      ],
      "id": "ea5e7dc0"
    },
    {
      "cell_type": "markdown",
      "metadata": {},
      "source": [
        "There are many different ways to represent geospatial coordinates,\n",
        "either spherically or on a flat map. These different systems are called\n",
        "Coordinate Reference Systems.\n",
        "\n",
        "<link rel=\"stylesheet\" type=\"text/css\" href=\"./assets/styles.css\"><div class=\"callout callout-style-default callout-titled callout-task\"><div class=\"callout-header\"><div class=\"callout-icon-container\"><i class=\"callout-icon\"></i></div><div class=\"callout-title-container flex-fill\">Try It: Prepare to plot</div></div><div class=\"callout-body-container callout-body\"><p>To make interactive geospatial plots, at the moment we need\n",
        "everything to be in the Mercator CRS.</p>\n",
        "<ol type=\"1\">\n",
        "<li>Reproject your area of interest with\n",
        "<code>.to_crs(ccrs.Mercator())</code></li>\n",
        "<li>Reproject your NDVI and band raster data using\n",
        "`.rio.reproject(ccrs.Mercator())</li>\n",
        "</ol></div></div>\n",
        "\n",
        "<link rel=\"stylesheet\" type=\"text/css\" href=\"./assets/styles.css\"><div class=\"callout callout-style-default callout-titled callout-task\"><div class=\"callout-header\"><div class=\"callout-icon-container\"><i class=\"callout-icon\"></i></div><div class=\"callout-title-container flex-fill\">Try It: Plot raster with overlay with xarray</div></div><div class=\"callout-body-container callout-body\"><p>Plotting raster and vector data together using <code>pandas</code>\n",
        "and <code>xarray</code> requires the <code>matplotlib.pyplot</code>\n",
        "library to access some plot layour tools. Using the code below as a\n",
        "starting point, you can play around with adding:</p>\n",
        "<ol type=\"1\">\n",
        "<li>Labels and titles</li>\n",
        "<li>Different colors with <code>cmap</code> and\n",
        "<code>edgecolor</code></li>\n",
        "<li>Different line thickness with <code>line_width</code></li>\n",
        "</ol>\n",
        "<p>See if you can also figure out what <code>vmin</code>,\n",
        "<code>robust</code>, and the <code>.set()</code> methods do.</p></div></div>"
      ],
      "id": "81eac91f-168f-4fe8-a2d9-405d41abb7b5"
    },
    {
      "cell_type": "code",
      "execution_count": 7,
      "metadata": {
        "highlight": true
      },
      "outputs": [],
      "source": [
        "ndvi_plot_da.plot(vmin=0, robust=True)\n",
        "aoi_plot_gdf.plot(ax=plt.gca(), color='none')\n",
        "plt.gca().set(\n",
        "    xlabel='', ylabel='', xticks=[], yticks=[]\n",
        ")\n",
        "plt.show()"
      ],
      "id": "a9c2cc39"
    },
    {
      "cell_type": "markdown",
      "metadata": {},
      "source": [
        "<link rel=\"stylesheet\" type=\"text/css\" href=\"./assets/styles.css\"><div class=\"callout callout-style-default callout-titled callout-task\"><div class=\"callout-header\"><div class=\"callout-icon-container\"><i class=\"callout-icon\"></i></div><div class=\"callout-title-container flex-fill\">Try It: Plot raster with overlay with hvplot</div></div><div class=\"callout-body-container callout-body\"><p>Now, do the same with <code>hvplot</code>. Note that some parameter\n",
        "names are the same and some are different. Do you notice any physical\n",
        "lines in the NDVI data that line up with the redlining boundaries?</p></div></div>"
      ],
      "id": "75e5357b-26c8-4ddb-a25b-c892774f8116"
    },
    {
      "cell_type": "code",
      "execution_count": 9,
      "metadata": {
        "highlight": true
      },
      "outputs": [],
      "source": [
        "(\n",
        "    ndvi_plot_da.hvplot(\n",
        "        geo=True,\n",
        "        xaxis=None, yaxis=None\n",
        "    )\n",
        "    * aoi_plot_gdf.hvplot(\n",
        "        geo=True, crs=ccrs.Mercator(),\n",
        "        fill_color=None)\n",
        ")"
      ],
      "id": "e3438550"
    },
    {
      "cell_type": "markdown",
      "metadata": {},
      "source": [
        "<link rel=\"stylesheet\" type=\"text/css\" href=\"./assets/styles.css\"><div class=\"callout callout-style-default callout-titled callout-task\"><div class=\"callout-header\"><div class=\"callout-icon-container\"><i class=\"callout-icon\"></i></div><div class=\"callout-title-container flex-fill\">Try It: Plot bands with linked subplots</div></div><div class=\"callout-body-container callout-body\"><p>The following code will make a three panel plot with Red, NIR, and\n",
        "Green bands. Why do you think we aren’t using the green band to look at\n",
        "vegetation?</p></div></div>"
      ],
      "id": "bd3547f3-5de4-4ae7-b8a9-a359528a165e"
    },
    {
      "cell_type": "code",
      "execution_count": 11,
      "metadata": {
        "highlight": true
      },
      "outputs": [],
      "source": [
        "raster_kwargs = dict(\n",
        "    geo=True, robust=True, \n",
        "    xaxis=None, yaxis=None\n",
        ")\n",
        "(\n",
        "    (\n",
        "        band_plot_dict['red'].hvplot(\n",
        "            cmap='Reds', title='Red Reflectance', **raster_kwargs)\n",
        "        + band_plot_dict['nir'].hvplot(\n",
        "            cmap='Greys', title='NIR Reflectance', **raster_kwargs)\n",
        "        + band_plot_dict['green'].hvplot(\n",
        "            cmap='Greens', title='Green Reflectance', **raster_kwargs)\n",
        "    )\n",
        "    * aoi_plot_gdf.hvplot(\n",
        "        geo=True, crs=ccrs.Mercator(),\n",
        "        fill_color=None)\n",
        ")"
      ],
      "id": "bb2c31ed"
    },
    {
      "cell_type": "markdown",
      "metadata": {},
      "source": [
        "<link rel=\"stylesheet\" type=\"text/css\" href=\"./assets/styles.css\"><div class=\"callout callout-style-default callout-titled callout-task\"><div class=\"callout-header\"><div class=\"callout-icon-container\"><i class=\"callout-icon\"></i></div><div class=\"callout-title-container flex-fill\">Try It: Plot RBG</div></div><div class=\"callout-body-container callout-body\"><p>The following code will plot an RGB image using both matplotlib and\n",
        "hvplot. It also performs an action called “Contrast stretching”, and\n",
        "brightens the image.</p>\n",
        "<ol type=\"1\">\n",
        "<li>Read through the <code>stretch_rgb</code> function, and fill out the\n",
        "<strong>docstring</strong> with the rest of the parameters and your own\n",
        "descriptions. You can ask ChatGPT or another LLM to help you read the\n",
        "code if needed! Please use the <a\n",
        "href=\"https://numpydoc.readthedocs.io/en/latest/format.html\">numpy style\n",
        "of docstrings</a></li>\n",
        "<li>Adjust the <code>low</code>, <code>high</code>, and\n",
        "<code>brighten</code> numbers until you are satisfied with the image.\n",
        "You can also ask ChatGPT to help you figure out what adjustments to make\n",
        "by describing or uploading an image.</li>\n",
        "</ol></div></div>"
      ],
      "id": "36e2b670-a5f4-4788-b7a1-a99c06377177"
    },
    {
      "cell_type": "code",
      "execution_count": 13,
      "metadata": {
        "highlight": true
      },
      "outputs": [],
      "source": [
        "rgb_da = (\n",
        "    xr.concat(\n",
        "        [\n",
        "            band_plot_dict['red'],\n",
        "            band_plot_dict['green'],\n",
        "            band_plot_dict['blue']\n",
        "        ],\n",
        "        dim='rgb')\n",
        ")\n",
        "\n",
        "def stretch_rgb(rgb_da, low, high, brighten):\n",
        "    \"\"\"\n",
        "    Short description\n",
        "\n",
        "    Long description...\n",
        "\n",
        "    Parameters\n",
        "    ----------\n",
        "    rgb_da: array-like\n",
        "      ...\n",
        "    param2: ...\n",
        "      ...\n",
        "\n",
        "    Returns\n",
        "    -------\n",
        "    rgb_da: array-like\n",
        "      ...\n",
        "    \"\"\"\n",
        "    p_low, p_high = np.nanpercentile(rgb_da, (low, high))\n",
        "    rgb_da = (rgb_da - p_low)  / (p_high - p_low) + brighten\n",
        "    rgb_da = rgb_da.clip(0, 1)\n",
        "    return rgb_da\n",
        "\n",
        "rgb_da = stretch_rgb(rgb_da, 1, 99, .01)\n",
        "\n",
        "rgb_da.plot.imshow(rgb='rgb')\n",
        "rgb_da.hvplot.rgb(geo=True, x='x', y='y', bands='rgb')"
      ],
      "id": "f4c834b1"
    },
    {
      "cell_type": "markdown",
      "metadata": {},
      "source": [
        "<link rel=\"stylesheet\" type=\"text/css\" href=\"./assets/styles.css\"><div class=\"callout callout-style-default callout-titled callout-task\"><div class=\"callout-header\"><div class=\"callout-icon-container\"><i class=\"callout-icon\"></i></div><div class=\"callout-title-container flex-fill\">Try It: Plot CIR</div></div><div class=\"callout-body-container callout-body\"><p>Now, plot a false color RGB image. CIR images have the following\n",
        "bands:</p>\n",
        "<ul>\n",
        "<li>red becomes NIR</li>\n",
        "<li>green becomes red</li>\n",
        "<li>blue becomes green</li>\n",
        "</ul></div></div>\n",
        "\n",
        "<link rel=\"stylesheet\" type=\"text/css\" href=\"./assets/styles.css\"><div class=\"callout callout-style-default callout-titled callout-extra\"><div class=\"callout-header\"><div class=\"callout-icon-container\"><i class=\"callout-icon\"></i></div><div class=\"callout-title-container flex-fill\">Looking for an Extra Challenge?: Adjust the levels</div></div><div class=\"callout-body-container callout-body\"><p>You may notice that the NIR band in this image is very bright. Can\n",
        "you adjust it so it is balanced more effectively by the other bands?</p></div></div>"
      ],
      "id": "d3a17728-46b7-414c-9cbf-ff519811c5f7"
    }
  ],
  "nbformat": 4,
  "nbformat_minor": 5,
  "metadata": {
    "kernelspec": {
      "name": "python3",
      "display_name": "Python 3 (ipykernel)",
      "language": "python"
    },
    "language_info": {
      "name": "python",
      "codemirror_mode": {
        "name": "ipython",
        "version": "3"
      },
      "file_extension": ".py",
      "mimetype": "text/x-python",
      "nbconvert_exporter": "python",
      "pygments_lexer": "ipython3",
      "version": "3.10.14"
    }
  }
}