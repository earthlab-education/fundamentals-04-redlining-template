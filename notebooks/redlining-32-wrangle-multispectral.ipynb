{
  "cells": [
    {
      "cell_type": "markdown",
      "metadata": {},
      "source": [
        "# STEP 3: Download and prepare green reflectance data\n",
        "\n",
        "## Working with **raster** data\n",
        "\n",
        "**Raster** data is arranged on a grid – for example a digital\n",
        "photograph.\n",
        "\n",
        "<link rel=\"stylesheet\" type=\"text/css\" href=\"./assets/styles.css\"><div class=\"callout callout-style-default callout-titled callout-read\"><div class=\"callout-header\"><div class=\"callout-icon-container\"><i class=\"callout-icon\"></i></div><div class=\"callout-title-container flex-fill\">Read More</div></div><div class=\"callout-body-container callout-body\"><p>Learn more about raster data at this <a\n",
        "href=\"https://www.earthdatascience.org/courses/use-data-open-source-python/intro-raster-data-python/\">Introduction\n",
        "to Raster Data with Python</a></p></div></div>\n",
        "\n",
        "<link rel=\"stylesheet\" type=\"text/css\" href=\"./assets/styles.css\"><div class=\"callout callout-style-default callout-titled callout-task\"><div class=\"callout-header\"><div class=\"callout-icon-container\"><i class=\"callout-icon\"></i></div><div class=\"callout-title-container flex-fill\">Try It: Import stored variables and libraries</div></div><div class=\"callout-body-container callout-body\"><p>For this case study, you will need a library for working with\n",
        "geospatial raster data (<code>rioxarray</code>), more advanced libraries\n",
        "for working with data from the internet and files on your computer\n",
        "(<code>requests</code>, <code>zipfile</code>, <code>io</code>,\n",
        "<code>re</code>). You will need to add:</p>\n",
        "<ol type=\"1\">\n",
        "<li>A library for building interoperable file paths</li>\n",
        "<li>A library to locate files using a pattern with wildcards</li>\n",
        "</ol></div></div>\n",
        "\n",
        "First"
      ],
      "id": "2b0b76b2-62fc-438c-b33f-aa9324843351"
    },
    {
      "cell_type": "code",
      "execution_count": 2,
      "metadata": {},
      "outputs": [],
      "source": [
        "%store -r denver_redlining_gdf data_dir"
      ],
      "id": "4f6cf0c8"
    },
    {
      "cell_type": "code",
      "execution_count": 3,
      "metadata": {
        "highlight": true
      },
      "outputs": [],
      "source": [
        "# Reproducible file paths\n",
        "import re # Extract metadata from file names\n",
        "import zipfile # Work with zip files\n",
        "from io import BytesIO # Stream binary (zip) files\n",
        "# Find files by pattern\n",
        "\n",
        "import numpy as np # Unpack bit-wise Fmask\n",
        "import requests # Request data over HTTP\n",
        "import rioxarray as rxr # Work with geospatial raster data"
      ],
      "id": "f6c06970"
    },
    {
      "cell_type": "markdown",
      "metadata": {},
      "source": [
        "### Download raster data\n",
        "\n",
        "<link rel=\"stylesheet\" type=\"text/css\" href=\"./assets/styles.css\"><div class=\"callout callout-style-default callout-titled callout-task\"><div class=\"callout-header\"><div class=\"callout-icon-container\"><i class=\"callout-icon\"></i></div><div class=\"callout-title-container flex-fill\">Try It: Download sample data</div></div><div class=\"callout-body-container callout-body\"><ol type=\"1\">\n",
        "<li>Define a descriptive variable with the sample data url: <a\n",
        "href=\"https://github.com/cu-esiil-edu/esiil-learning-portal/releases/download/data-release/redlining-foundations-data.zip\">https://github.com/cu-esiil-edu/esiil-learning-portal/releases/download/data-release/redlining-foundations-data.zip</a></li>\n",
        "<li>Define a descriptive variable with the path you want to store the\n",
        "sample raster data.</li>\n",
        "<li>Use a conditional to make sure you only download the data once!</li>\n",
        "<li>Check that you successfully downloaded some <code>.tif</code>\n",
        "files.</li>\n",
        "</ol></div></div>"
      ],
      "id": "0e80f1e6-1763-4fa6-8151-012bb7e74bc1"
    },
    {
      "cell_type": "code",
      "execution_count": 5,
      "metadata": {
        "highlight": true
      },
      "outputs": [],
      "source": [
        "# Prepare URL and file path for download\n",
        "\n",
        "# Download sample raster data\n",
        "response = requests.get(url)\n",
        "\n",
        "# Save the raster data (uncompressed)\n",
        "with zipfile.ZipFile(BytesIO(response.content)) as sample_data_zip:\n",
        "    sample_data_zip.extractall(sample_data_dir)"
      ],
      "id": "67ea935e"
    },
    {
      "cell_type": "markdown",
      "metadata": {},
      "source": [
        "### Working with multispectral data\n",
        "\n",
        "The data you just downloaded is **multispectral** raster data. When you\n",
        "take a color photograph, your camera actually takes three images that\n",
        "get combined – a red, a green, and a blue image (or band, or channel).\n",
        "Multispectral data is a little like that, except that it also often\n",
        "contains spectral bands from outside the range human eyes can see. In\n",
        "this case, you should have a Near-Infrared (NIR) band as well as the\n",
        "red, green, and blue.\n",
        "\n",
        "This multispectral data is part of the [Harmonized Landsat Sentinel 30m\n",
        "dataset](https://lpdaac.usgs.gov/products/hlsl30v002/) (HLSL30), which\n",
        "is a combination of data taken by the NASA Landsat missions and the\n",
        "European Space Agency (ESA) Sentinel-2 mission. Both missions collect\n",
        "multispectral data, and combining them gives us more frequent images,\n",
        "usually every 2-3 days. Because they are harmonized with Landsat\n",
        "satellites, they are also comparable with Landsat data from previous\n",
        "missions, which go back to the 1980s.\n",
        "\n",
        "<link rel=\"stylesheet\" type=\"text/css\" href=\"./assets/styles.css\"><div class=\"callout callout-style-default callout-titled callout-read\"><div class=\"callout-header\"><div class=\"callout-icon-container\"><i class=\"callout-icon\"></i></div><div class=\"callout-title-container flex-fill\">Read More</div></div><div class=\"callout-body-container callout-body\"><p>Learn more about multispectral data in this <a\n",
        "href=\"https://www.earthdatascience.org/courses/use-data-open-source-python/multispectral-remote-sensing/intro-multispectral-data/\">Introduction\n",
        "to Multispectral Remote Sensing Data</a></p></div></div>\n",
        "\n",
        "For now, we’ll work with the green layer to get some practice opening up\n",
        "raster data.\n",
        "\n",
        "<link rel=\"stylesheet\" type=\"text/css\" href=\"./assets/styles.css\"><div class=\"callout callout-style-default callout-titled callout-task\"><div class=\"callout-header\"><div class=\"callout-icon-container\"><i class=\"callout-icon\"></i></div><div class=\"callout-title-container flex-fill\">Try It: Find the green layer file</div></div><div class=\"callout-body-container callout-body\"><p>One of the files you downloaded should contain the\n",
        "<strong>green</strong> band. To open it up:</p>\n",
        "<ol type=\"1\">\n",
        "<li>Check out the <a\n",
        "href=\"https://lpdaac.usgs.gov/documents/1698/HLS_User_Guide_V2.pdf\">HLSL30\n",
        "User Guide</a> to determine which band is the green one. The band number\n",
        "will be in the file name as <code>Bxx</code> where <code>xx</code> is\n",
        "the two-digit band number.</li>\n",
        "<li>Write some code to <strong>reproducibly</strong> locate that file on\n",
        "any system. Make sure that you get the <strong>path</strong>, not a\n",
        "<strong>list</strong> containing the path.</li>\n",
        "<li>Run the starter code, which opens up the green layer.</li>\n",
        "<li>Notice that the values range from 0 to about 2500. Reflectance\n",
        "values should range from 0 to 1, but they are <strong>scaled</strong> in\n",
        "most files so that they can be represented as 16-bit integers instead of\n",
        "64-bit float values. This makes the file size 4x smaller without any\n",
        "loss of accuracy! To make sure that the data are scaled correctly in\n",
        "Python, go ahead and add the <code>mask_and_scale=True</code> parameter\n",
        "to the <code>rxr.open_rasterio</code> function. Now your values should\n",
        "run between 0 and about .25. <code>mask_and_scale=True</code> also\n",
        "represents nodata or na values correctly as nan rather than, in this\n",
        "case -9999. However, this image has been cropped so there are no nodata\n",
        "values in it.</li>\n",
        "<li>Notice that this array also has 3 <strong>dimensions</strong>:\n",
        "<code>band</code>, <code>y</code>, and <code>x</code>. You can see the\n",
        "dimensions in parentheses just to the right of\n",
        "<code>xarray.DataArray</code> in the displayed version of the\n",
        "<code>DataArray</code>. Sometimes we do have arrays with different\n",
        "bands, for example if different multispectral bands are contained in the\n",
        "same file. However, <code>band</code> in this case is not giving us any\n",
        "information; it’s an artifact of how Python interacts with the\n",
        "<code>geoTIFF</code> file format. Drop it as a dimension by using the\n",
        "<code>.squeeze()</code> method on your <code>DataArray</code>. This\n",
        "makes certain concatenation and plotting operations go smoother – you\n",
        "pretty much always want to do this when importing a\n",
        "<code>DataArray</code> with <code>rioxarray</code>.</li>\n",
        "</ol></div></div>"
      ],
      "id": "d8b697e7-b70a-411f-a56c-62cd3b594bcd"
    },
    {
      "cell_type": "code",
      "execution_count": 7,
      "metadata": {
        "highlight": true
      },
      "outputs": [],
      "source": [
        "# Find the path to the green layer\n",
        "\n",
        "# Open the green data in Python\n",
        "green_da = rxr.open_rasterio(green_path)\n",
        "display(green_da)\n",
        "green_da.plot(cmap='Greens', vmin=0, robust=True)"
      ],
      "id": "55b97869"
    },
    {
      "cell_type": "markdown",
      "metadata": {},
      "source": [
        "### Cloud mask\n",
        "\n",
        "In your original image, you may have noticed some splotches on the\n",
        "image. These are clouds, and sometimes you will also see darker areas\n",
        "next to them, which are cloud shadows. Ideally, we don’t want to include\n",
        "either clouds or the shadows in our image! Luckily, our data comes with\n",
        "a cloud mask file, labeled as the `Fmask` band.\n",
        "\n",
        "<link rel=\"stylesheet\" type=\"text/css\" href=\"./assets/styles.css\"><div class=\"callout callout-style-default callout-titled callout-task\"><div class=\"callout-header\"><div class=\"callout-icon-container\"><i class=\"callout-icon\"></i></div><div class=\"callout-title-container flex-fill\">Try It: Take a look at the cloud mask</div></div><div class=\"callout-body-container callout-body\"><ol type=\"1\">\n",
        "<li>Locate the <code>Fmask</code> file.</li>\n",
        "<li>Load the <code>Fmask</code> layer into Python</li>\n",
        "<li>Crop the <code>Fmask</code> layer</li>\n",
        "<li>Plot the <code>Fmask</code> layer</li>\n",
        "</ol></div></div>\n",
        "\n",
        "Notice that your Fmask layer seems to range from 0 to somewhere in the\n",
        "mid-200s. Our cloud mask actually comes as 8-bit **binary** numbers,\n",
        "where each **bit** represents a different category of pixel we might\n",
        "want to mask out.\n",
        "\n",
        "<link rel=\"stylesheet\" type=\"text/css\" href=\"./assets/styles.css\"><div class=\"callout callout-style-default callout-titled callout-task\"><div class=\"callout-header\"><div class=\"callout-icon-container\"><i class=\"callout-icon\"></i></div><div class=\"callout-title-container flex-fill\">Try It: Process the Fmask</div></div><div class=\"callout-body-container callout-body\"><ol type=\"1\">\n",
        "<li>Use the sample code below to <strong>unpack</strong> the cloud mask\n",
        "data. Using <code>bitorder='little'</code> means that the bit indices\n",
        "will match the Fmask categories in the User Guide, and\n",
        "<code>axis=-1</code> creates a new dimension for the bits so that now\n",
        "our array is <code>x</code>x<code>y</code>x8.</li>\n",
        "<li>Look up the bits to mask in the User Guide. You should mask clouds,\n",
        "adjacent to clouds, and cloud shadow, as well as water (because water\n",
        "may confuse our greenspace analogy)</li>\n",
        "</ol></div></div>"
      ],
      "id": "963626b7-a7f8-4d10-8f5c-9209d1a40cd8"
    },
    {
      "cell_type": "code",
      "execution_count": 11,
      "metadata": {
        "highlight": true
      },
      "outputs": [],
      "source": [
        "cloud_bits = (\n",
        "    np.unpackbits(\n",
        "        (\n",
        "            # Get the cloud mask as an array...\n",
        "            cloud_da.values\n",
        "            # ... of 8-bit integers\n",
        "            .astype('uint8')\n",
        "            # With an extra axis to unpack the bits into\n",
        "            [:, :, np.newaxis]\n",
        "        ), \n",
        "        # List the least significat bit first to match the user guide\n",
        "        bitorder='little',\n",
        "        # Expand the array in a new dimension\n",
        "        axis=-1)\n",
        ")\n",
        "\n",
        "bits_to_mask = [\n",
        "    , # Cloud\n",
        "    , # Adjacent to cloud\n",
        "    , # Cloud shadow\n",
        "    ] # Water\n",
        "cloud_mask = np.sum(\n",
        "    # Select bits 1, 2, and 3\n",
        "    cloud_bits[:,:,bits_to_mask], \n",
        "    # Sum along the bit axis\n",
        "    axis=-1\n",
        "# Check if any of bits 1, 2, or 3 are true\n",
        ") == 0\n",
        "\n",
        "cloud_mask"
      ],
      "id": "8999a4a7"
    },
    {
      "cell_type": "markdown",
      "metadata": {},
      "source": [
        "<link rel=\"stylesheet\" type=\"text/css\" href=\"./assets/styles.css\"><div class=\"callout callout-style-default callout-titled callout-task\"><div class=\"callout-header\"><div class=\"callout-icon-container\"><i class=\"callout-icon\"></i></div><div class=\"callout-title-container flex-fill\">Try It: Apply the cloud mask</div></div><div class=\"callout-body-container callout-body\"><ol type=\"1\">\n",
        "<li>Use the <code>.where()</code> method to remove all the pixels you\n",
        "identified in the previous step from your green reflectance\n",
        "<code>DataArray</code>.</li>\n",
        "</ol></div></div>\n",
        "\n",
        "<link rel=\"stylesheet\" type=\"text/css\" href=\"./assets/styles.css\"><div class=\"callout callout-style-default callout-titled callout-task\"><div class=\"callout-header\"><div class=\"callout-icon-container\"><i class=\"callout-icon\"></i></div><div class=\"callout-title-container flex-fill\">Try It: Load all bands</div></div><div class=\"callout-body-container callout-body\"><p>The sample data comes with 15 different bands. Some of these are\n",
        "spectral bands, while others are things like a cloud mask, or the angles\n",
        "from which the image was taken. You only need the spectral bands.\n",
        "Luckily, all the spectral bands have similar file names, so you can use\n",
        "<strong>indices</strong> to extract which band is which from the\n",
        "name:</p>\n",
        "<ol type=\"1\">\n",
        "<li>Fill out the <code>bands</code> dictionary based on the User Guide.\n",
        "You will use this to replace band numbers from the file name with\n",
        "human-readable names.</li>\n",
        "<li>Locate the position of the band id number in the file path. It is\n",
        "easiest to do this from the end, with negative indices. Fill out the\n",
        "<code>start_index</code> and <code>end_index</code> variables with the\n",
        "position values. You might need to test this before moving on!</li>\n",
        "<li>Add code to open up the band in the spot to save it to the\n",
        "<code>band_dict</code></li>\n",
        "</ol></div></div>"
      ],
      "id": "9a883f7f-48d2-4cc4-a9af-8ae271630ca3"
    },
    {
      "cell_type": "code",
      "execution_count": 15,
      "metadata": {
        "highlight": true
      },
      "outputs": [],
      "source": [
        "# Define band labels\n",
        "bands = {\n",
        "    'B01': 'aerosol',\n",
        "    ...\n",
        "}\n",
        "\n",
        "band_dict = {}\n",
        "band_paths = glob(os.path.join(hls_dir, '*.tif'))\n",
        "for band_path in band_paths:\n",
        "    # Get the band number and name\n",
        "    start_index = \n",
        "    end_index = \n",
        "    band_id = band_path[start_index:end_index]\n",
        "    band_name = bands[band_id]\n",
        "\n",
        "    # Open the band and accumulate\n",
        "    band_dict[band_name] = \n",
        "band_dict"
      ],
      "id": "2bb39424"
    },
    {
      "cell_type": "code",
      "execution_count": 17,
      "metadata": {},
      "outputs": [],
      "source": [
        "%store band_dict"
      ],
      "id": "d3970029"
    }
  ],
  "nbformat": 4,
  "nbformat_minor": 5,
  "metadata": {
    "kernelspec": {
      "name": "python3",
      "display_name": "Python 3 (ipykernel)",
      "language": "python"
    },
    "language_info": {
      "name": "python",
      "codemirror_mode": {
        "name": "ipython",
        "version": "3"
      },
      "file_extension": ".py",
      "mimetype": "text/x-python",
      "nbconvert_exporter": "python",
      "pygments_lexer": "ipython3",
      "version": "3.10.14"
    }
  }
}