{
  "cells": [
    {
      "cell_type": "markdown",
      "metadata": {},
      "source": [
        "# STEP 1: Set up your analysis\n",
        "\n",
        "<link rel=\"stylesheet\" type=\"text/css\" href=\"./assets/styles.css\"><div class=\"callout callout-style-default callout-titled callout-task\"><div class=\"callout-header\"><div class=\"callout-icon-container\"><i class=\"callout-icon\"></i></div><div class=\"callout-title-container flex-fill\">Try It: Import packages</div></div><div class=\"callout-body-container callout-body\"><p>Add imports for packages that help you:</p>\n",
        "<ol type=\"1\">\n",
        "<li>Work with the file system interoperably</li>\n",
        "<li>Work with vector data</li>\n",
        "<li>Create interactive plots of vector data</li>\n",
        "</ol></div></div>"
      ],
      "id": "6628cc56-ca72-4409-acc0-edd3e082d4a6"
    },
    {
      "cell_type": "code",
      "execution_count": 2,
      "metadata": {
        "highlight": true
      },
      "outputs": [],
      "source": [
        "# Interoperable file paths\n",
        "# Find the home folder\n",
        "# Work with vector data\n",
        "# Interactive plots of vector data"
      ],
      "id": "36373378"
    },
    {
      "cell_type": "markdown",
      "metadata": {},
      "source": [
        "<link rel=\"stylesheet\" type=\"text/css\" href=\"./assets/styles.css\"><div class=\"callout callout-style-default callout-titled callout-task\"><div class=\"callout-header\"><div class=\"callout-icon-container\"><i class=\"callout-icon\"></i></div><div class=\"callout-title-container flex-fill\">Try It: Prepare data directory</div></div><div class=\"callout-body-container callout-body\"><p>In the cell below, <strong>reproducibly and interoperably</strong>\n",
        "define and create a project data directory somewhere in your home\n",
        "folder. Be careful not to save data files to your <code>git</code>\n",
        "repository!</p></div></div>"
      ],
      "id": "e51bccae-e240-4961-a8de-04d996468c61"
    },
    {
      "cell_type": "code",
      "execution_count": 4,
      "metadata": {
        "highlight": true
      },
      "outputs": [],
      "source": [
        "# Define and create the project data directory"
      ],
      "id": "0a04b348"
    },
    {
      "cell_type": "markdown",
      "metadata": {},
      "source": [
        "## STEP 2: Site map\n",
        "\n",
        "<link rel=\"stylesheet\" type=\"text/css\" href=\"./assets/styles.css\"><div class=\"callout callout-style-default callout-titled callout-task\"><div class=\"callout-header\"><div class=\"callout-icon-container\"><i class=\"callout-icon\"></i></div><div class=\"callout-title-container flex-fill\">Try It: Define your study area</div></div><div class=\"callout-body-container callout-body\"><ol type=\"1\">\n",
        "<li>Copy the <strong>geopackage</strong> URL for the <a\n",
        "href=\"https://dsl.richmond.edu/panorama/redlining/data\">University of\n",
        "Richmond</a></li>\n",
        "<li>Load the <em>vector</em> data into Python, making sure to cache the\n",
        "download so you don’t have to run it multiple times.</li>\n",
        "<li>Create a quick plot to check the data</li>\n",
        "</ol></div></div>"
      ],
      "id": "57c696b2-c65d-4c09-b82e-f5c068a23011"
    },
    {
      "cell_type": "code",
      "execution_count": 6,
      "metadata": {
        "highlight": true
      },
      "outputs": [],
      "source": [
        "# Define info for redlining download\n",
        "\n",
        "# Only download once\n",
        "\n",
        "# Load from file\n",
        "\n",
        "# Check the data"
      ],
      "id": "b36db150"
    },
    {
      "cell_type": "markdown",
      "metadata": {},
      "source": [
        "<link rel=\"stylesheet\" type=\"text/css\" href=\"./assets/styles.css\"><div class=\"callout callout-style-default callout-titled callout-task\"><div class=\"callout-header\"><div class=\"callout-icon-container\"><i class=\"callout-icon\"></i></div><div class=\"callout-title-container flex-fill\">Try It: Create an interactive site map</div></div><div class=\"callout-body-container callout-body\"><p>In the cell below:</p>\n",
        "<ol type=\"1\">\n",
        "<li>Select only the data where the <code>city</code> column is equal to\n",
        "<code>\"Denver\"</code>.</li>\n",
        "<li>For now, dissolve the regions with the <code>.dissolve()</code>\n",
        "method so we see only a map of Denver.</li>\n",
        "<li>Plot the data with the <code>EsriImagery</code> tile source basemap.\n",
        "Make sure we can see your basemap underneath!</li>\n",
        "</ol></div></div>\n",
        "\n",
        "<link rel=\"stylesheet\" type=\"text/css\" href=\"./assets/styles.css\"><div class=\"callout callout-style-default callout-titled callout-respond\"><div class=\"callout-header\"><div class=\"callout-icon-container\"><i class=\"callout-icon\"></i></div><div class=\"callout-title-container flex-fill\">Reflect and Respond: Write a site description</div></div><div class=\"callout-body-container callout-body\"><p>Your site description should address:</p>\n",
        "<ol type=\"1\">\n",
        "<li>Is there anything relevant to this analysis that you notice in your\n",
        "site map?</li>\n",
        "<li>Research about the <strong>context</strong> of this analysis. You\n",
        "could include information about the climate and history of the Denver\n",
        "area. How might racism, water rights, or other societal forces have\n",
        "influenced the distribution of urban green space in Denver? Aim for a\n",
        "paragraph of text.</li>\n",
        "<li>Citations for the site data and your context sources.</li>\n",
        "</ol></div></div>"
      ],
      "id": "491f26db-1f5c-4cc6-8804-40b2fc2f7b2e"
    },
    {
      "cell_type": "markdown",
      "metadata": {},
      "source": [
        "YOUR SITE DESCRIPTION HERE"
      ],
      "id": "56a5301f-3e6e-4268-8ccd-f56977d2280f"
    },
    {
      "cell_type": "markdown",
      "metadata": {},
      "source": [
        "<link rel=\"stylesheet\" type=\"text/css\" href=\"./assets/styles.css\"><div class=\"callout callout-style-default callout-titled callout-task\"><div class=\"callout-header\"><div class=\"callout-icon-container\"><i class=\"callout-icon\"></i></div><div class=\"callout-title-container flex-fill\">Try It: Store variables</div></div><div class=\"callout-body-container callout-body\"><p>Store any variables you want for later. This should definitely\n",
        "include your un-dissolved denver redlining <code>GeoDataFrame</code> and\n",
        "your data directory path.</p></div></div>"
      ],
      "id": "cae045ce-e01f-447b-aab8-defbed89a9c9"
    },
    {
      "cell_type": "code",
      "execution_count": 10,
      "metadata": {},
      "outputs": [],
      "source": [
        "%store denver_redlining_gdf data_dir"
      ],
      "id": "496519d0"
    }
  ],
  "nbformat": 4,
  "nbformat_minor": 5,
  "metadata": {
    "kernelspec": {
      "name": "python3",
      "display_name": "Python 3 (ipykernel)",
      "language": "python"
    },
    "language_info": {
      "name": "python",
      "codemirror_mode": {
        "name": "ipython",
        "version": "3"
      },
      "file_extension": ".py",
      "mimetype": "text/x-python",
      "nbconvert_exporter": "python",
      "pygments_lexer": "ipython3",
      "version": "3.10.14"
    }
  }
}